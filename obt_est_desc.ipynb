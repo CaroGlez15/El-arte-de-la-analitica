{
 "cells": [
  {
   "cell_type": "markdown",
   "metadata": {},
   "source": [
    "Carolina González Salinas A01662120\n",
    "# Obtención de estadísticas descriptivas  \n",
    "  \n",
    "  Cargamos los datos:"
   ]
  },
  {
   "cell_type": "code",
   "execution_count": 13,
   "metadata": {},
   "outputs": [],
   "source": [
    "import pandas as pd\n",
    "import numpy as np\n",
    "\n",
    "df = pd.read_csv(\"avocado.csv\")"
   ]
  },
  {
   "cell_type": "markdown",
   "metadata": {},
   "source": [
    "Cantidad y tipo de datos:"
   ]
  },
  {
   "cell_type": "code",
   "execution_count": 14,
   "metadata": {},
   "outputs": [
    {
     "name": "stdout",
     "output_type": "stream",
     "text": [
      "Total de datos por columna: 18249\n",
      "Total de datos en la DataFrame: 255486\n",
      "Tipos de variable de cada columna:\n",
      "Unnamed: 0        int64\n",
      "Date             object\n",
      "AveragePrice    float64\n",
      "Total Volume    float64\n",
      "4046            float64\n",
      "4225            float64\n",
      "4770            float64\n",
      "Total Bags      float64\n",
      "Small Bags      float64\n",
      "Large Bags      float64\n",
      "XLarge Bags     float64\n",
      "type             object\n",
      "year              int64\n",
      "region           object\n",
      "dtype: object\n"
     ]
    }
   ],
   "source": [
    "tot_datos = df.shape\n",
    "print(\"Total de datos por columna:\", tot_datos[0])\n",
    "print(\"Total de datos en la DataFrame:\", tot_datos[0]*tot_datos[1])\n",
    "print(\"Tipos de variable de cada columna:\")\n",
    "print(df.dtypes)"
   ]
  },
  {
   "cell_type": "markdown",
   "metadata": {},
   "source": [
    "Análisis de variables:  \n",
    "Unnamed: índice  \n",
    "Date: fecha  \n",
    "AveragePrice: Precio promedio de los aguacates  \n",
    "Total Volume: Volumen total de los aguacates  \n",
    "4046: indeterminado  \n",
    "4225: indeterminado  \n",
    "4770: indeterminado  \n",
    "Total Bags: Valor total de las bolsas  \n",
    "Small Bags: Valor de las bolsas pequeñas  \n",
    "Large Bags: Valor de las bolsas grandes  \n",
    "XLarge Bags: Valor de las bolsas enormes  \n",
    "type: tipo de aguacate  \n",
    "year: Año de la venta  \n",
    "region: Lugar de la venta  \n"
   ]
  },
  {
   "cell_type": "code",
   "execution_count": 18,
   "metadata": {},
   "outputs": [
    {
     "name": "stdout",
     "output_type": "stream",
     "text": [
      "Rango Unnamed: 0 0 - 52\n",
      "Rango Date 2015-01-04 - 2018-03-25\n",
      "Rango AveragePrice 0.44 - 3.25\n",
      "Rango Total Volume 84.56 - 62505646.52\n",
      "Rango 4046 0.0 - 22743616.17\n",
      "Rango 4225 0.0 - 20470572.61\n",
      "Rango 4770 0.0 - 2546439.11\n",
      "Rango Total Bags 0.0 - 19373134.37\n",
      "Rango Small Bags 0.0 - 13384586.8\n",
      "Rango Large Bags 0.0 - 5719096.61\n",
      "Rango XLarge Bags 0.0 - 551693.65\n",
      "Rango type conventional - organic\n",
      "Rango year 2015 - 2018\n",
      "Rango region Albany - WestTexNewMexico\n"
     ]
    }
   ],
   "source": [
    "def rango(variable):\n",
    "    print(\"Rango\", variable, df[variable].min(), \"-\", df[variable].max())\n",
    "\n",
    "rango('Unnamed: 0')\n",
    "rango('Date')\n",
    "rango('AveragePrice')\n",
    "rango('Total Volume')\n",
    "rango('4046')\n",
    "rango('4225')\n",
    "rango('4770')\n",
    "rango('Total Bags')\n",
    "rango('Small Bags')\n",
    "rango('Large Bags')\n",
    "rango('XLarge Bags')\n",
    "rango('type')\n",
    "rango('year')\n",
    "rango('region')\n"
   ]
  },
  {
   "cell_type": "markdown",
   "metadata": {},
   "source": [
    "Conclusiones basadas en la media, mediana y desviación estándar:"
   ]
  },
  {
   "cell_type": "code",
   "execution_count": 20,
   "metadata": {},
   "outputs": [
    {
     "name": "stdout",
     "output_type": "stream",
     "text": [
      "Medidas para la columna: Unnamed: 0\n",
      "Media: 24.232231903117977\n",
      "Mediana: 24.0\n",
      "Desviación Estándar: 15.480620586492071\n",
      "\n",
      "La columna Date no es numérica\n",
      "\n",
      "Medidas para la columna: AveragePrice\n",
      "Media: 1.405978409775878\n",
      "Mediana: 1.37\n",
      "Desviación Estándar: 0.4026655225054672\n",
      "\n",
      "Medidas para la columna: Total Volume\n",
      "Media: 850644.0130089321\n",
      "Mediana: 107376.76\n",
      "Desviación Estándar: 3453450.731237377\n",
      "\n",
      "Medidas para la columna: 4046\n",
      "Media: 293008.4245306592\n",
      "Mediana: 8645.3\n",
      "Desviación Estándar: 1264954.422153708\n",
      "\n",
      "Medidas para la columna: 4225\n",
      "Media: 295154.56835607433\n",
      "Mediana: 29061.02\n",
      "Desviación Estándar: 1204087.4092752968\n",
      "\n",
      "Medidas para la columna: 4770\n",
      "Media: 22839.73599265713\n",
      "Mediana: 184.99\n",
      "Desviación Estándar: 107461.12401264436\n",
      "\n",
      "Medidas para la columna: Total Bags\n",
      "Media: 239639.20205983886\n",
      "Mediana: 39743.83\n",
      "Desviación Estándar: 986215.3770258671\n",
      "\n",
      "Medidas para la columna: Small Bags\n",
      "Media: 182194.68669570936\n",
      "Mediana: 26362.82\n",
      "Desviación Estándar: 746158.0703144815\n",
      "\n",
      "Medidas para la columna: Large Bags\n",
      "Media: 54338.08814455587\n",
      "Mediana: 2647.71\n",
      "Desviación Estándar: 243959.28009053937\n",
      "\n",
      "Medidas para la columna: XLarge Bags\n",
      "Media: 3106.426507205874\n",
      "Mediana: 0.0\n",
      "Desviación Estándar: 17692.409881873187\n",
      "\n",
      "La columna type no es numérica\n",
      "\n",
      "Medidas para la columna: year\n",
      "Media: 2016.1478985149872\n",
      "Mediana: 2016.0\n",
      "Desviación Estándar: 0.9399127136378292\n",
      "\n",
      "La columna region no es numérica\n",
      "\n"
     ]
    }
   ],
   "source": [
    "def medidas(variable):\n",
    "    media = np.mean(df[variable])\n",
    "    mediana = np.median(df[variable])\n",
    "    desv_est = np.std(df[variable])\n",
    "    print(\"Medidas para la columna:\", variable)\n",
    "    print(\"Media:\", media)\n",
    "    print(\"Mediana:\", mediana)\n",
    "    print(\"Desviación Estándar:\", desv_est)\n",
    "\n",
    "for columna in df:\n",
    "    try:\n",
    "        medidas(columna)\n",
    "    except:\n",
    "        print(\"La columna\", columna, \"no es numérica\")\n",
    "    finally:\n",
    "        print(\"\")"
   ]
  },
  {
   "cell_type": "markdown",
   "metadata": {},
   "source": [
    "Conclusiones de los datos:\n",
    "La columna Unnamed: 0 no nos da ninguna información relevante porque es un índice\n",
    "Las columnas Date, type y region no son numéricas, entonces no podemos sacarles media, mediana o desviación estándar.\n",
    "La columna AveragePrice tiene una media y mediana muy cercanas, además de una desviación estándar baja, lo cuál indica que todos los datos de esta columna tienden a ser bastante similares. Esto implica que los precios casi rondan un precio preestablecido, lo cuál es normal en cualquier economía: Tenemos muchos precios muy similares y unos pocos muy bajos o muy altos (esto lo notamos por el rango dado más arriba) por tener muy baja o muy alta calidad.\n",
    "Las columnas Total Volume, 4046, 4225, 4770, Total Bags, Small Bags, Large Bags y XLarge Bags cuentan con medianas muy por debajo de la media y desviaciones estándar grandes. Esto nos habla de que la variabilidad de estos datos es muy grande, aunque tienden a tener muchos datos por debajo de la media y pocos datos muy por encima de la media.\n",
    "La columna year tiene una media, mediana cercanas y una desviación estándar baja, lo cuál indica que todos los datos de esta columna tienden a ser bastante similares. Tomando en cuenta que el rango de esta columna es del 2015 al 2018, tiene sentido que no haya mucha variabilidad en los datos."
   ]
  }
 ],
 "metadata": {
  "kernelspec": {
   "display_name": "Python 3",
   "language": "python",
   "name": "python3"
  },
  "language_info": {
   "codemirror_mode": {
    "name": "ipython",
    "version": 3
   },
   "file_extension": ".py",
   "mimetype": "text/x-python",
   "name": "python",
   "nbconvert_exporter": "python",
   "pygments_lexer": "ipython3",
   "version": "3.11.3"
  },
  "orig_nbformat": 4
 },
 "nbformat": 4,
 "nbformat_minor": 2
}
